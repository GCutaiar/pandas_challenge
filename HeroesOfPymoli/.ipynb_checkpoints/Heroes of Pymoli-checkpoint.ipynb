{
 "cells": [
  {
   "cell_type": "code",
   "execution_count": 81,
   "metadata": {},
   "outputs": [],
   "source": [
    "import pandas as pd"
   ]
  },
  {
   "cell_type": "code",
   "execution_count": 82,
   "metadata": {},
   "outputs": [
    {
     "data": {
      "text/html": [
       "<div>\n",
       "<style scoped>\n",
       "    .dataframe tbody tr th:only-of-type {\n",
       "        vertical-align: middle;\n",
       "    }\n",
       "\n",
       "    .dataframe tbody tr th {\n",
       "        vertical-align: top;\n",
       "    }\n",
       "\n",
       "    .dataframe thead th {\n",
       "        text-align: right;\n",
       "    }\n",
       "</style>\n",
       "<table border=\"1\" class=\"dataframe\">\n",
       "  <thead>\n",
       "    <tr style=\"text-align: right;\">\n",
       "      <th></th>\n",
       "      <th>Purchase ID</th>\n",
       "      <th>SN</th>\n",
       "      <th>Age</th>\n",
       "      <th>Gender</th>\n",
       "      <th>Item ID</th>\n",
       "      <th>Item Name</th>\n",
       "      <th>Price</th>\n",
       "    </tr>\n",
       "  </thead>\n",
       "  <tbody>\n",
       "    <tr>\n",
       "      <th>0</th>\n",
       "      <td>0</td>\n",
       "      <td>Lisim78</td>\n",
       "      <td>20</td>\n",
       "      <td>Male</td>\n",
       "      <td>108</td>\n",
       "      <td>Extraction, Quickblade Of Trembling Hands</td>\n",
       "      <td>3.53</td>\n",
       "    </tr>\n",
       "    <tr>\n",
       "      <th>1</th>\n",
       "      <td>1</td>\n",
       "      <td>Lisovynya38</td>\n",
       "      <td>40</td>\n",
       "      <td>Male</td>\n",
       "      <td>143</td>\n",
       "      <td>Frenzied Scimitar</td>\n",
       "      <td>1.56</td>\n",
       "    </tr>\n",
       "    <tr>\n",
       "      <th>2</th>\n",
       "      <td>2</td>\n",
       "      <td>Ithergue48</td>\n",
       "      <td>24</td>\n",
       "      <td>Male</td>\n",
       "      <td>92</td>\n",
       "      <td>Final Critic</td>\n",
       "      <td>4.88</td>\n",
       "    </tr>\n",
       "    <tr>\n",
       "      <th>3</th>\n",
       "      <td>3</td>\n",
       "      <td>Chamassasya86</td>\n",
       "      <td>24</td>\n",
       "      <td>Male</td>\n",
       "      <td>100</td>\n",
       "      <td>Blindscythe</td>\n",
       "      <td>3.27</td>\n",
       "    </tr>\n",
       "    <tr>\n",
       "      <th>4</th>\n",
       "      <td>4</td>\n",
       "      <td>Iskosia90</td>\n",
       "      <td>23</td>\n",
       "      <td>Male</td>\n",
       "      <td>131</td>\n",
       "      <td>Fury</td>\n",
       "      <td>1.44</td>\n",
       "    </tr>\n",
       "  </tbody>\n",
       "</table>\n",
       "</div>"
      ],
      "text/plain": [
       "   Purchase ID             SN  Age Gender  Item ID  \\\n",
       "0            0        Lisim78   20   Male      108   \n",
       "1            1    Lisovynya38   40   Male      143   \n",
       "2            2     Ithergue48   24   Male       92   \n",
       "3            3  Chamassasya86   24   Male      100   \n",
       "4            4      Iskosia90   23   Male      131   \n",
       "\n",
       "                                   Item Name  Price  \n",
       "0  Extraction, Quickblade Of Trembling Hands   3.53  \n",
       "1                          Frenzied Scimitar   1.56  \n",
       "2                               Final Critic   4.88  \n",
       "3                                Blindscythe   3.27  \n",
       "4                                       Fury   1.44  "
      ]
     },
     "execution_count": 82,
     "metadata": {},
     "output_type": "execute_result"
    }
   ],
   "source": [
    "file = \"../Resources/purchase_data.csv\"\n",
    "purchase_data_df = pd.read_csv(file)\n",
    "purchase_data_df.head()"
   ]
  },
  {
   "cell_type": "code",
   "execution_count": 83,
   "metadata": {},
   "outputs": [
    {
     "data": {
      "text/html": [
       "<div>\n",
       "<style scoped>\n",
       "    .dataframe tbody tr th:only-of-type {\n",
       "        vertical-align: middle;\n",
       "    }\n",
       "\n",
       "    .dataframe tbody tr th {\n",
       "        vertical-align: top;\n",
       "    }\n",
       "\n",
       "    .dataframe thead th {\n",
       "        text-align: right;\n",
       "    }\n",
       "</style>\n",
       "<table border=\"1\" class=\"dataframe\">\n",
       "  <thead>\n",
       "    <tr style=\"text-align: right;\">\n",
       "      <th></th>\n",
       "      <th>Total Player</th>\n",
       "    </tr>\n",
       "  </thead>\n",
       "  <tbody>\n",
       "    <tr>\n",
       "      <th>0</th>\n",
       "      <td>576</td>\n",
       "    </tr>\n",
       "  </tbody>\n",
       "</table>\n",
       "</div>"
      ],
      "text/plain": [
       "   Total Player\n",
       "0           576"
      ]
     },
     "execution_count": 83,
     "metadata": {},
     "output_type": "execute_result"
    }
   ],
   "source": [
    "#Total number of players\n",
    "total_players = purchase_data_df[\"SN\"].value_counts()\n",
    "total_players_count = len(total_players)\n",
    "total_players_count_df = [{\"Total Player\":total_players_count}]\n",
    "total_players_df = pd.DataFrame(total_players_count_df)\n",
    "total_players_df"
   ]
  },
  {
   "cell_type": "code",
   "execution_count": 84,
   "metadata": {},
   "outputs": [
    {
     "data": {
      "text/html": [
       "<div>\n",
       "<style scoped>\n",
       "    .dataframe tbody tr th:only-of-type {\n",
       "        vertical-align: middle;\n",
       "    }\n",
       "\n",
       "    .dataframe tbody tr th {\n",
       "        vertical-align: top;\n",
       "    }\n",
       "\n",
       "    .dataframe thead th {\n",
       "        text-align: right;\n",
       "    }\n",
       "</style>\n",
       "<table border=\"1\" class=\"dataframe\">\n",
       "  <thead>\n",
       "    <tr style=\"text-align: right;\">\n",
       "      <th></th>\n",
       "      <th>Number of Unique Items</th>\n",
       "      <th>Average Purchase Price($)</th>\n",
       "      <th>Total Number of Purchases</th>\n",
       "      <th>Total Revenue($)</th>\n",
       "    </tr>\n",
       "  </thead>\n",
       "  <tbody>\n",
       "    <tr>\n",
       "      <th>0</th>\n",
       "      <td>183</td>\n",
       "      <td>3.05</td>\n",
       "      <td>780</td>\n",
       "      <td>2379.77</td>\n",
       "    </tr>\n",
       "  </tbody>\n",
       "</table>\n",
       "</div>"
      ],
      "text/plain": [
       "   Number of Unique Items  Average Purchase Price($)  \\\n",
       "0                     183                       3.05   \n",
       "\n",
       "   Total Number of Purchases  Total Revenue($)  \n",
       "0                        780           2379.77  "
      ]
     },
     "execution_count": 84,
     "metadata": {},
     "output_type": "execute_result"
    }
   ],
   "source": [
    "#Purchasing Analysis\n",
    "items = purchase_data_df[\"Item ID\"].value_counts()\n",
    "items_df = len(items)\n",
    "\n",
    "average_purchase = purchase_data_df[\"Price\"].mean()\n",
    "average_purchase_df = average_purchase\n",
    "\n",
    "tot_items = items.sum()\n",
    "\n",
    "tot_revenue = purchase_data_df[\"Price\"].sum()\n",
    "\n",
    "purchasing_items = [{\"Number of Unique Items\":items_df,\"Average Purchase Price($)\":average_purchase_df,\"Total Number of Purchases\":tot_items,\"Total Revenue($)\":tot_revenue}]\n",
    "purchasing_items_df = pd.DataFrame(purchasing_items).round(2)\n",
    "purchasing_items_df = purchasing_items_df[[\"Number of Unique Items\",\"Average Purchase Price($)\",\"Total Number of Purchases\",\"Total Revenue($)\"]]                    \n",
    "purchasing_items_df"
   ]
  },
  {
   "cell_type": "code",
   "execution_count": 85,
   "metadata": {},
   "outputs": [
    {
     "data": {
      "text/html": [
       "<div>\n",
       "<style scoped>\n",
       "    .dataframe tbody tr th:only-of-type {\n",
       "        vertical-align: middle;\n",
       "    }\n",
       "\n",
       "    .dataframe tbody tr th {\n",
       "        vertical-align: top;\n",
       "    }\n",
       "\n",
       "    .dataframe thead th {\n",
       "        text-align: right;\n",
       "    }\n",
       "</style>\n",
       "<table border=\"1\" class=\"dataframe\">\n",
       "  <thead>\n",
       "    <tr style=\"text-align: right;\">\n",
       "      <th></th>\n",
       "      <th>Total Count</th>\n",
       "      <th>Percentage of Players(%)</th>\n",
       "    </tr>\n",
       "  </thead>\n",
       "  <tbody>\n",
       "    <tr>\n",
       "      <th>Male</th>\n",
       "      <td>484</td>\n",
       "      <td>84.03</td>\n",
       "    </tr>\n",
       "    <tr>\n",
       "      <th>Female</th>\n",
       "      <td>81</td>\n",
       "      <td>14.06</td>\n",
       "    </tr>\n",
       "    <tr>\n",
       "      <th>Other / Non-Disclosed</th>\n",
       "      <td>11</td>\n",
       "      <td>1.91</td>\n",
       "    </tr>\n",
       "  </tbody>\n",
       "</table>\n",
       "</div>"
      ],
      "text/plain": [
       "                       Total Count  Percentage of Players(%)\n",
       "Male                           484                     84.03\n",
       "Female                          81                     14.06\n",
       "Other / Non-Disclosed           11                      1.91"
      ]
     },
     "execution_count": 85,
     "metadata": {},
     "output_type": "execute_result"
    }
   ],
   "source": [
    "#Gender Demographic\n",
    "purchase_data_df_copy = purchase_data_df.copy(deep = True)\n",
    "players_df = purchase_data_df_copy\n",
    "players_df.sort_values(\"SN\", inplace =True)\n",
    "players_df.drop_duplicates(subset = \"SN\", keep = \"first\", inplace = True)\n",
    "genders = players_df[\"Gender\"].value_counts()\n",
    "genders_df = pd.DataFrame(genders)\n",
    "genders_demo_df = genders_df.rename(columns= {\"Gender\":\"Total Count\"})\n",
    "genders_demo_df[\"Percentage of Players(%)\"] = (genders_demo_df[\"Total Count\"]/total_players_count)*100 \n",
    "genders_demo_df.round(2)"
   ]
  },
  {
   "cell_type": "code",
   "execution_count": 86,
   "metadata": {},
   "outputs": [
    {
     "data": {
      "text/html": [
       "<div>\n",
       "<style scoped>\n",
       "    .dataframe tbody tr th:only-of-type {\n",
       "        vertical-align: middle;\n",
       "    }\n",
       "\n",
       "    .dataframe tbody tr th {\n",
       "        vertical-align: top;\n",
       "    }\n",
       "\n",
       "    .dataframe thead th {\n",
       "        text-align: right;\n",
       "    }\n",
       "</style>\n",
       "<table border=\"1\" class=\"dataframe\">\n",
       "  <thead>\n",
       "    <tr style=\"text-align: right;\">\n",
       "      <th></th>\n",
       "      <th>Gender</th>\n",
       "      <th>Purchase Count</th>\n",
       "      <th>Average Purchase Price($)</th>\n",
       "      <th>Total Purchase Value($)</th>\n",
       "      <th>Avg Total Purchase per Person($)</th>\n",
       "    </tr>\n",
       "  </thead>\n",
       "  <tbody>\n",
       "    <tr>\n",
       "      <th>0</th>\n",
       "      <td>Male</td>\n",
       "      <td>652</td>\n",
       "      <td>3.02</td>\n",
       "      <td>1967.64</td>\n",
       "      <td>4.07</td>\n",
       "    </tr>\n",
       "  </tbody>\n",
       "</table>\n",
       "</div>"
      ],
      "text/plain": [
       "  Gender  Purchase Count  Average Purchase Price($)  Total Purchase Value($)  \\\n",
       "0   Male             652                       3.02                  1967.64   \n",
       "\n",
       "   Avg Total Purchase per Person($)  \n",
       "0                              4.07  "
      ]
     },
     "execution_count": 86,
     "metadata": {},
     "output_type": "execute_result"
    }
   ],
   "source": [
    "#Purchasing by Gender\n",
    "purchase_by_gender_df = purchase_data_df[[\"Gender\",\"Price\"]]\n",
    "\n",
    "only_males = purchase_by_gender_df.loc[purchase_by_gender_df[\"Gender\"] ==\"Male\", :]\n",
    "only_males_ct =len(only_males)\n",
    "only_males_tot_purchase = only_males[\"Price\"].sum()\n",
    "only_males_tot_purchase\n",
    "only_males_avg_price = only_males[\"Price\"].mean()\n",
    "only_males_avg_pp = (only_males_tot_purchase)/(484)\n",
    "only_males_df = [{\"Gender\":\"Male\",\"Purchase Count\": only_males_ct,\"Average Purchase Price($)\":only_males_avg_price,\"Total Purchase Value($)\": only_males_tot_purchase,\"Avg Total Purchase per Person($)\":only_males_avg_pp}]\n",
    "only_males_df = pd.DataFrame(only_males_df).round(2)\n",
    "only_males_all_df =only_males_df[[\"Gender\",\"Purchase Count\",\"Average Purchase Price($)\",\"Total Purchase Value($)\",\"Avg Total Purchase per Person($)\"]]\n",
    "only_males_all_df\n",
    "#merge data frames\n",
    "#how to get total male players back as a variable to use"
   ]
  },
  {
   "cell_type": "code",
   "execution_count": 87,
   "metadata": {},
   "outputs": [
    {
     "data": {
      "text/html": [
       "<div>\n",
       "<style scoped>\n",
       "    .dataframe tbody tr th:only-of-type {\n",
       "        vertical-align: middle;\n",
       "    }\n",
       "\n",
       "    .dataframe tbody tr th {\n",
       "        vertical-align: top;\n",
       "    }\n",
       "\n",
       "    .dataframe thead th {\n",
       "        text-align: right;\n",
       "    }\n",
       "</style>\n",
       "<table border=\"1\" class=\"dataframe\">\n",
       "  <thead>\n",
       "    <tr style=\"text-align: right;\">\n",
       "      <th></th>\n",
       "      <th>Gender</th>\n",
       "      <th>Purchase Count</th>\n",
       "      <th>Average Purchase Price($)</th>\n",
       "      <th>Total Purchase Value($)</th>\n",
       "      <th>Avg Total Purchase per Person($)</th>\n",
       "    </tr>\n",
       "  </thead>\n",
       "  <tbody>\n",
       "    <tr>\n",
       "      <th>0</th>\n",
       "      <td>Female</td>\n",
       "      <td>113</td>\n",
       "      <td>3.2</td>\n",
       "      <td>361.94</td>\n",
       "      <td>4.47</td>\n",
       "    </tr>\n",
       "  </tbody>\n",
       "</table>\n",
       "</div>"
      ],
      "text/plain": [
       "   Gender  Purchase Count  Average Purchase Price($)  Total Purchase Value($)  \\\n",
       "0  Female             113                        3.2                   361.94   \n",
       "\n",
       "   Avg Total Purchase per Person($)  \n",
       "0                              4.47  "
      ]
     },
     "execution_count": 87,
     "metadata": {},
     "output_type": "execute_result"
    }
   ],
   "source": [
    "only_females = purchase_by_gender_df.loc[purchase_by_gender_df[\"Gender\"] ==\"Female\", :]\n",
    "only_females_ct =len(only_females)\n",
    "only_females_tot_purchase = only_females[\"Price\"].sum()\n",
    "only_females_tot_purchase\n",
    "only_females_avg_price = only_females[\"Price\"].mean()\n",
    "only_females_avg_pp = (only_females_tot_purchase)/(81)\n",
    "only_females_df = [{\"Gender\":\"Female\",\"Purchase Count\": only_females_ct,\"Average Purchase Price($)\":only_females_avg_price,\"Total Purchase Value($)\": only_females_tot_purchase,\"Avg Total Purchase per Person($)\":only_females_avg_pp}]\n",
    "only_females_df = pd.DataFrame(only_females_df).round(2)\n",
    "only_females_all_df =only_females_df[[\"Gender\",\"Purchase Count\",\"Average Purchase Price($)\",\"Total Purchase Value($)\",\"Avg Total Purchase per Person($)\"]]\n",
    "only_females_all_df\n",
    "#merge data frames"
   ]
  },
  {
   "cell_type": "code",
   "execution_count": 89,
   "metadata": {
    "scrolled": true
   },
   "outputs": [
    {
     "data": {
      "text/html": [
       "<div>\n",
       "<style scoped>\n",
       "    .dataframe tbody tr th:only-of-type {\n",
       "        vertical-align: middle;\n",
       "    }\n",
       "\n",
       "    .dataframe tbody tr th {\n",
       "        vertical-align: top;\n",
       "    }\n",
       "\n",
       "    .dataframe thead th {\n",
       "        text-align: right;\n",
       "    }\n",
       "</style>\n",
       "<table border=\"1\" class=\"dataframe\">\n",
       "  <thead>\n",
       "    <tr style=\"text-align: right;\">\n",
       "      <th></th>\n",
       "      <th>Gender</th>\n",
       "      <th>Purchase Count</th>\n",
       "      <th>Average Purchase Price($)</th>\n",
       "      <th>Total Purchase Value($)</th>\n",
       "      <th>Avg Total Purchase per Person($)</th>\n",
       "    </tr>\n",
       "  </thead>\n",
       "  <tbody>\n",
       "    <tr>\n",
       "      <th>0</th>\n",
       "      <td>Other / Non-Disclosed</td>\n",
       "      <td>15</td>\n",
       "      <td>3.35</td>\n",
       "      <td>50.19</td>\n",
       "      <td>4.56</td>\n",
       "    </tr>\n",
       "  </tbody>\n",
       "</table>\n",
       "</div>"
      ],
      "text/plain": [
       "                  Gender  Purchase Count  Average Purchase Price($)  \\\n",
       "0  Other / Non-Disclosed              15                       3.35   \n",
       "\n",
       "   Total Purchase Value($)  Avg Total Purchase per Person($)  \n",
       "0                    50.19                              4.56  "
      ]
     },
     "execution_count": 89,
     "metadata": {},
     "output_type": "execute_result"
    }
   ],
   "source": [
    "only_nds = purchase_by_gender_df.loc[purchase_by_gender_df[\"Gender\"] == \"Other / Non-Disclosed\", :]\n",
    "only_nds\n",
    "only_nds_ct =len(only_nds)\n",
    "only_nds_tot_purchase = only_nds[\"Price\"].sum()\n",
    "only_nds_tot_purchase\n",
    "only_nds_avg_price = only_nds[\"Price\"].mean()\n",
    "only_nds_avg_pp = (only_nds_tot_purchase)/(11)\n",
    "only_nds_df = [{\"Gender\":\"Other / Non-Disclosed\",\"Purchase Count\": only_nds_ct,\"Average Purchase Price($)\":only_nds_avg_price,\"Total Purchase Value($)\": only_nds_tot_purchase,\"Avg Total Purchase per Person($)\":only_nds_avg_pp}]\n",
    "only_nds_df = pd.DataFrame(only_nds_df).round(2)\n",
    "only_nds_all_df =only_nds_df[[\"Gender\",\"Purchase Count\",\"Average Purchase Price($)\",\"Total Purchase Value($)\",\"Avg Total Purchase per Person($)\"]]\n",
    "only_nds_all_df\n",
    "#merge data frames"
   ]
  },
  {
   "cell_type": "code",
   "execution_count": 90,
   "metadata": {},
   "outputs": [],
   "source": [
    "#merged dfs\n"
   ]
  },
  {
   "cell_type": "code",
   "execution_count": 91,
   "metadata": {},
   "outputs": [
    {
     "data": {
      "text/html": [
       "<div>\n",
       "<style scoped>\n",
       "    .dataframe tbody tr th:only-of-type {\n",
       "        vertical-align: middle;\n",
       "    }\n",
       "\n",
       "    .dataframe tbody tr th {\n",
       "        vertical-align: top;\n",
       "    }\n",
       "\n",
       "    .dataframe thead th {\n",
       "        text-align: right;\n",
       "    }\n",
       "</style>\n",
       "<table border=\"1\" class=\"dataframe\">\n",
       "  <thead>\n",
       "    <tr style=\"text-align: right;\">\n",
       "      <th></th>\n",
       "      <th>Group Count</th>\n",
       "      <th>Group Percent(%)</th>\n",
       "    </tr>\n",
       "    <tr>\n",
       "      <th>Age Group</th>\n",
       "      <th></th>\n",
       "      <th></th>\n",
       "    </tr>\n",
       "  </thead>\n",
       "  <tbody>\n",
       "    <tr>\n",
       "      <th>&lt;10</th>\n",
       "      <td>17</td>\n",
       "      <td>2.95</td>\n",
       "    </tr>\n",
       "    <tr>\n",
       "      <th>10-14</th>\n",
       "      <td>22</td>\n",
       "      <td>3.82</td>\n",
       "    </tr>\n",
       "    <tr>\n",
       "      <th>15-19</th>\n",
       "      <td>107</td>\n",
       "      <td>18.58</td>\n",
       "    </tr>\n",
       "    <tr>\n",
       "      <th>20-24</th>\n",
       "      <td>258</td>\n",
       "      <td>44.79</td>\n",
       "    </tr>\n",
       "    <tr>\n",
       "      <th>25-29</th>\n",
       "      <td>77</td>\n",
       "      <td>13.37</td>\n",
       "    </tr>\n",
       "    <tr>\n",
       "      <th>30-34</th>\n",
       "      <td>52</td>\n",
       "      <td>9.03</td>\n",
       "    </tr>\n",
       "    <tr>\n",
       "      <th>35-39</th>\n",
       "      <td>31</td>\n",
       "      <td>5.38</td>\n",
       "    </tr>\n",
       "    <tr>\n",
       "      <th>40+</th>\n",
       "      <td>12</td>\n",
       "      <td>2.08</td>\n",
       "    </tr>\n",
       "  </tbody>\n",
       "</table>\n",
       "</div>"
      ],
      "text/plain": [
       "           Group Count  Group Percent(%)\n",
       "Age Group                               \n",
       "<10                 17              2.95\n",
       "10-14               22              3.82\n",
       "15-19              107             18.58\n",
       "20-24              258             44.79\n",
       "25-29               77             13.37\n",
       "30-34               52              9.03\n",
       "35-39               31              5.38\n",
       "40+                 12              2.08"
      ]
     },
     "execution_count": 91,
     "metadata": {},
     "output_type": "execute_result"
    }
   ],
   "source": [
    "#Age Demographic\n",
    "bins = [0,9,14,19,24,29,34,39,105]\n",
    "group_labels = [\"<10\",\"10-14\",\"15-19\",\"20-24\",\"25-29\",\"30-34\",\"35-39\",\"40+\"]\n",
    "players_df[\"Age Group\"] = pd.cut(players_df[\"Age\"], bins, labels=group_labels)\n",
    "group_ages_df = players_df.groupby([\"Age Group\"])\n",
    "group_count = group_ages_df[[\"Purchase ID\"]].count()\n",
    "group_count = group_count.rename(columns = {\"Purchase ID\":\"Group Count\"})\n",
    "group_percent = (group_count/total_players_count)*100\n",
    "group_count[\"Group Percent(%)\"] = group_percent.round(2)\n",
    "group_count.head(10)            "
   ]
  },
  {
   "cell_type": "code",
   "execution_count": 96,
   "metadata": {},
   "outputs": [
    {
     "data": {
      "text/plain": [
       "Age Group\n",
       "<10      3.35\n",
       "10-14    2.96\n",
       "15-19    3.04\n",
       "20-24    3.05\n",
       "25-29    2.90\n",
       "30-34    2.93\n",
       "35-39    3.60\n",
       "40+      2.94\n",
       "Name: Price, dtype: float64"
      ]
     },
     "execution_count": 96,
     "metadata": {},
     "output_type": "execute_result"
    }
   ],
   "source": [
    "bins = [0,9,14,19,24,29,34,39,105]\n",
    "group_labels = [\"<10\",\"10-14\",\"15-19\",\"20-24\",\"25-29\",\"30-34\",\"35-39\",\"40+\"]\n",
    "purchase_data_df[\"Age Group\"] = pd.cut(purchase_data_df[\"Age\"], bins, labels=group_labels)\n",
    "group_purch_df = purchase_data_df.groupby([\"Age Group\"])\n",
    "\n",
    "group_purch_ct = group_purch_df.count()\n",
    "group_purch_mean = group_purch_df[\"Price\"].mean().round(2)\n",
    "group_purch_tot = group_purch_df[\"Price\"].sum()\n",
    "\n",
    "#group_purch_avg = group_purch_tot/group_count\n",
    "#group_purch_avg\n",
    "\n",
    "\n"
   ]
  },
  {
   "cell_type": "code",
   "execution_count": 107,
   "metadata": {},
   "outputs": [
    {
     "data": {
      "text/plain": [
       "Lisosia93      5\n",
       "Iral74         4\n",
       "Idastidru52    4\n",
       "Phaena87       3\n",
       "Rarallo90      3\n",
       "Name: SN, dtype: int64"
      ]
     },
     "execution_count": 107,
     "metadata": {},
     "output_type": "execute_result"
    }
   ],
   "source": [
    "#Top Spenders\n",
    "purchase_data_df.head()\n",
    "purchase_tscount = purchase_data_df[\"SN\"].value_counts()\n",
    "purchase_tscount.head()\n",
    "\n",
    "\n",
    "#average purchase price\n",
    "\n",
    "#tot. purchase value\n",
    "#sort by"
   ]
  },
  {
   "cell_type": "code",
   "execution_count": 108,
   "metadata": {},
   "outputs": [
    {
     "data": {
      "text/plain": [
       "178    12\n",
       "82      9\n",
       "108     9\n",
       "145     9\n",
       "92      8\n",
       "Name: Item ID, dtype: int64"
      ]
     },
     "execution_count": 108,
     "metadata": {},
     "output_type": "execute_result"
    }
   ],
   "source": [
    "#Most Popular Items\n",
    "#id 5 most popular items by count\n",
    "purchase_data_df.head()\n",
    "purchase_picount = purchase_data_df[\"Item ID\"].value_counts()\n",
    "purchase_picount.head()\n",
    "#item name\n",
    "\n",
    "#purchase count\n",
    "\n",
    "#item price\n",
    "\n",
    "#total purchase value"
   ]
  },
  {
   "cell_type": "code",
   "execution_count": null,
   "metadata": {},
   "outputs": [],
   "source": [
    "#Most Profitable items\n",
    "#item id\n",
    "\n",
    "#item name\n",
    "\n",
    "#purchase count\n",
    "\n",
    "#item price\n",
    "\n",
    "#total purchase value"
   ]
  }
 ],
 "metadata": {
  "kernelspec": {
   "display_name": "Python 3",
   "language": "python",
   "name": "python3"
  },
  "language_info": {
   "codemirror_mode": {
    "name": "ipython",
    "version": 3
   },
   "file_extension": ".py",
   "mimetype": "text/x-python",
   "name": "python",
   "nbconvert_exporter": "python",
   "pygments_lexer": "ipython3",
   "version": "3.7.3"
  }
 },
 "nbformat": 4,
 "nbformat_minor": 2
}
