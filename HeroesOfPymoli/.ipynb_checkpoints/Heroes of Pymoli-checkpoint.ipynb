{
 "cells": [
  {
   "cell_type": "code",
   "execution_count": 1,
   "metadata": {},
   "outputs": [],
   "source": [
    "import pandas as pd"
   ]
  },
  {
   "cell_type": "code",
   "execution_count": 2,
   "metadata": {},
   "outputs": [],
   "source": [
    "file = \"../Resources/purchase_data.csv\"\n",
    "purchase_data_df = pd.read_csv(file)"
   ]
  },
  {
   "cell_type": "code",
   "execution_count": 3,
   "metadata": {},
   "outputs": [
    {
     "data": {
      "text/html": [
       "<div>\n",
       "<style scoped>\n",
       "    .dataframe tbody tr th:only-of-type {\n",
       "        vertical-align: middle;\n",
       "    }\n",
       "\n",
       "    .dataframe tbody tr th {\n",
       "        vertical-align: top;\n",
       "    }\n",
       "\n",
       "    .dataframe thead th {\n",
       "        text-align: right;\n",
       "    }\n",
       "</style>\n",
       "<table border=\"1\" class=\"dataframe\">\n",
       "  <thead>\n",
       "    <tr style=\"text-align: right;\">\n",
       "      <th></th>\n",
       "      <th>Total Player</th>\n",
       "    </tr>\n",
       "  </thead>\n",
       "  <tbody>\n",
       "    <tr>\n",
       "      <th>0</th>\n",
       "      <td>576</td>\n",
       "    </tr>\n",
       "  </tbody>\n",
       "</table>\n",
       "</div>"
      ],
      "text/plain": [
       "   Total Player\n",
       "0           576"
      ]
     },
     "execution_count": 3,
     "metadata": {},
     "output_type": "execute_result"
    }
   ],
   "source": [
    "#Total number of players\n",
    "total_players = purchase_data_df[\"SN\"].value_counts()\n",
    "total_players_count = len(total_players)\n",
    "total_players_count_df = [{\"Total Player\":total_players_count}]\n",
    "total_players_df = pd.DataFrame(total_players_count_df)\n",
    "total_players_df"
   ]
  },
  {
   "cell_type": "code",
   "execution_count": 4,
   "metadata": {},
   "outputs": [
    {
     "data": {
      "text/html": [
       "<div>\n",
       "<style scoped>\n",
       "    .dataframe tbody tr th:only-of-type {\n",
       "        vertical-align: middle;\n",
       "    }\n",
       "\n",
       "    .dataframe tbody tr th {\n",
       "        vertical-align: top;\n",
       "    }\n",
       "\n",
       "    .dataframe thead th {\n",
       "        text-align: right;\n",
       "    }\n",
       "</style>\n",
       "<table border=\"1\" class=\"dataframe\">\n",
       "  <thead>\n",
       "    <tr style=\"text-align: right;\">\n",
       "      <th></th>\n",
       "      <th>Number of Unique Items</th>\n",
       "      <th>Average Purchase Price($)</th>\n",
       "      <th>Total Number of Purchases</th>\n",
       "      <th>Total Revenue($)</th>\n",
       "    </tr>\n",
       "  </thead>\n",
       "  <tbody>\n",
       "    <tr>\n",
       "      <th>0</th>\n",
       "      <td>183</td>\n",
       "      <td>3.05</td>\n",
       "      <td>780</td>\n",
       "      <td>2379.77</td>\n",
       "    </tr>\n",
       "  </tbody>\n",
       "</table>\n",
       "</div>"
      ],
      "text/plain": [
       "   Number of Unique Items  Average Purchase Price($)  \\\n",
       "0                     183                       3.05   \n",
       "\n",
       "   Total Number of Purchases  Total Revenue($)  \n",
       "0                        780           2379.77  "
      ]
     },
     "execution_count": 4,
     "metadata": {},
     "output_type": "execute_result"
    }
   ],
   "source": [
    "#Purchasing Analysis\n",
    "items = purchase_data_df[\"Item ID\"].value_counts()\n",
    "items_df = len(items)\n",
    "\n",
    "average_purchase = purchase_data_df[\"Price\"].mean()\n",
    "average_purchase_df = average_purchase\n",
    "\n",
    "tot_items = items.sum()\n",
    "\n",
    "tot_revenue = purchase_data_df[\"Price\"].sum()\n",
    "\n",
    "purchasing_items = [{\"Number of Unique Items\":items_df,\"Average Purchase Price($)\":average_purchase_df,\"Total Number of Purchases\":tot_items,\"Total Revenue($)\":tot_revenue}]\n",
    "purchasing_items_df = pd.DataFrame(purchasing_items).round(2)\n",
    "purchasing_items_df = purchasing_items_df[[\"Number of Unique Items\",\"Average Purchase Price($)\",\"Total Number of Purchases\",\"Total Revenue($)\"]]                    \n",
    "purchasing_items_df"
   ]
  },
  {
   "cell_type": "code",
   "execution_count": 5,
   "metadata": {},
   "outputs": [
    {
     "data": {
      "text/html": [
       "<div>\n",
       "<style scoped>\n",
       "    .dataframe tbody tr th:only-of-type {\n",
       "        vertical-align: middle;\n",
       "    }\n",
       "\n",
       "    .dataframe tbody tr th {\n",
       "        vertical-align: top;\n",
       "    }\n",
       "\n",
       "    .dataframe thead th {\n",
       "        text-align: right;\n",
       "    }\n",
       "</style>\n",
       "<table border=\"1\" class=\"dataframe\">\n",
       "  <thead>\n",
       "    <tr style=\"text-align: right;\">\n",
       "      <th></th>\n",
       "      <th>Total Count</th>\n",
       "      <th>Percentage of Players(%)</th>\n",
       "    </tr>\n",
       "  </thead>\n",
       "  <tbody>\n",
       "    <tr>\n",
       "      <th>Male</th>\n",
       "      <td>484</td>\n",
       "      <td>84.03</td>\n",
       "    </tr>\n",
       "    <tr>\n",
       "      <th>Female</th>\n",
       "      <td>81</td>\n",
       "      <td>14.06</td>\n",
       "    </tr>\n",
       "    <tr>\n",
       "      <th>Other / Non-Disclosed</th>\n",
       "      <td>11</td>\n",
       "      <td>1.91</td>\n",
       "    </tr>\n",
       "  </tbody>\n",
       "</table>\n",
       "</div>"
      ],
      "text/plain": [
       "                       Total Count  Percentage of Players(%)\n",
       "Male                           484                     84.03\n",
       "Female                          81                     14.06\n",
       "Other / Non-Disclosed           11                      1.91"
      ]
     },
     "execution_count": 5,
     "metadata": {},
     "output_type": "execute_result"
    }
   ],
   "source": [
    "#Gender Demographic\n",
    "purchase_data_df_copy = purchase_data_df.copy(deep = True)\n",
    "players_df = purchase_data_df_copy\n",
    "players_df.sort_values(\"SN\", inplace =True)\n",
    "players_df.drop_duplicates(subset = \"SN\", keep = \"first\", inplace = True)\n",
    "genders = players_df[\"Gender\"].value_counts()\n",
    "genders_df = pd.DataFrame(genders)\n",
    "genders_demo_df = genders_df.rename(columns= {\"Gender\":\"Total Count\"})\n",
    "genders_demo_df[\"Percentage of Players(%)\"] = (genders_demo_df[\"Total Count\"]/total_players_count)*100 \n",
    "genders_demo_df.round(2)"
   ]
  },
  {
   "cell_type": "code",
   "execution_count": 6,
   "metadata": {},
   "outputs": [],
   "source": [
    "#Purchasing by Gender\n",
    "purchase_by_gender_df = purchase_data_df[[\"Gender\",\"Price\"]]\n",
    "\n",
    "only_males = purchase_by_gender_df.loc[purchase_by_gender_df[\"Gender\"] ==\"Male\", :]\n",
    "only_males_ct =len(only_males)\n",
    "only_males_tot_purchase = only_males[\"Price\"].sum()\n",
    "only_males_tot_purchase\n",
    "only_males_avg_price = only_males[\"Price\"].mean()\n",
    "only_males_avg_pp = (only_males_tot_purchase)/(genders_demo_df.loc[\"Male\"][\"Total Count\"])\n",
    "only_males_df = [{\"Gender\":\"Male\",\"Purchase Count\": only_males_ct,\"Average Purchase Price($)\":only_males_avg_price,\"Total Purchase Value($)\": only_males_tot_purchase,\"Avg Total Purchase per Person($)\":only_males_avg_pp}]\n",
    "only_males_df = pd.DataFrame(only_males_df).round(2)\n",
    "only_males_all_df =only_males_df[[\"Gender\",\"Purchase Count\",\"Average Purchase Price($)\",\"Total Purchase Value($)\",\"Avg Total Purchase per Person($)\"]]"
   ]
  },
  {
   "cell_type": "code",
   "execution_count": 7,
   "metadata": {},
   "outputs": [],
   "source": [
    "only_females = purchase_by_gender_df.loc[purchase_by_gender_df[\"Gender\"] ==\"Female\", :]\n",
    "only_females_ct =len(only_females)\n",
    "only_females_tot_purchase = only_females[\"Price\"].sum()\n",
    "only_females_tot_purchase\n",
    "only_females_avg_price = only_females[\"Price\"].mean()\n",
    "only_females_avg_pp = (only_females_tot_purchase)/(genders_demo_df.loc[\"Female\"][\"Total Count\"])\n",
    "only_females_df = [{\"Gender\":\"Female\",\"Purchase Count\": only_females_ct,\"Average Purchase Price($)\":only_females_avg_price,\"Total Purchase Value($)\": only_females_tot_purchase,\"Avg Total Purchase per Person($)\":only_females_avg_pp}]\n",
    "only_females_df = pd.DataFrame(only_females_df).round(2)\n",
    "only_females_all_df =only_females_df[[\"Gender\",\"Purchase Count\",\"Average Purchase Price($)\",\"Total Purchase Value($)\",\"Avg Total Purchase per Person($)\"]]"
   ]
  },
  {
   "cell_type": "code",
   "execution_count": 8,
   "metadata": {
    "scrolled": true
   },
   "outputs": [],
   "source": [
    "only_nds = purchase_by_gender_df.loc[purchase_by_gender_df[\"Gender\"] == \"Other / Non-Disclosed\", :]\n",
    "only_nds\n",
    "only_nds_ct =len(only_nds)\n",
    "only_nds_tot_purchase = only_nds[\"Price\"].sum()\n",
    "only_nds_tot_purchase\n",
    "only_nds_avg_price = only_nds[\"Price\"].mean()\n",
    "only_nds_avg_pp = (only_nds_tot_purchase)/(genders_demo_df.loc[\"Other / Non-Disclosed\"][\"Total Count\"])\n",
    "only_nds_df = [{\"Gender\":\"Other / Non-Disclosed\",\"Purchase Count\": only_nds_ct,\"Average Purchase Price($)\":only_nds_avg_price,\"Total Purchase Value($)\": only_nds_tot_purchase,\"Avg Total Purchase per Person($)\":only_nds_avg_pp}]\n",
    "only_nds_df = pd.DataFrame(only_nds_df).round(2)\n",
    "only_nds_all_df =only_nds_df[[\"Gender\",\"Purchase Count\",\"Average Purchase Price($)\",\"Total Purchase Value($)\",\"Avg Total Purchase per Person($)\"]]"
   ]
  },
  {
   "cell_type": "code",
   "execution_count": 9,
   "metadata": {},
   "outputs": [
    {
     "data": {
      "text/html": [
       "<div>\n",
       "<style scoped>\n",
       "    .dataframe tbody tr th:only-of-type {\n",
       "        vertical-align: middle;\n",
       "    }\n",
       "\n",
       "    .dataframe tbody tr th {\n",
       "        vertical-align: top;\n",
       "    }\n",
       "\n",
       "    .dataframe thead th {\n",
       "        text-align: right;\n",
       "    }\n",
       "</style>\n",
       "<table border=\"1\" class=\"dataframe\">\n",
       "  <thead>\n",
       "    <tr style=\"text-align: right;\">\n",
       "      <th></th>\n",
       "      <th>Gender</th>\n",
       "      <th>Purchase Count</th>\n",
       "      <th>Average Purchase Price($)</th>\n",
       "      <th>Total Purchase Value($)</th>\n",
       "      <th>Avg Total Purchase per Person($)</th>\n",
       "    </tr>\n",
       "  </thead>\n",
       "  <tbody>\n",
       "    <tr>\n",
       "      <th>0</th>\n",
       "      <td>Male</td>\n",
       "      <td>652</td>\n",
       "      <td>3.02</td>\n",
       "      <td>1967.64</td>\n",
       "      <td>4.07</td>\n",
       "    </tr>\n",
       "    <tr>\n",
       "      <th>1</th>\n",
       "      <td>Female</td>\n",
       "      <td>113</td>\n",
       "      <td>3.20</td>\n",
       "      <td>361.94</td>\n",
       "      <td>4.47</td>\n",
       "    </tr>\n",
       "    <tr>\n",
       "      <th>2</th>\n",
       "      <td>Other / Non-Disclosed</td>\n",
       "      <td>15</td>\n",
       "      <td>3.35</td>\n",
       "      <td>50.19</td>\n",
       "      <td>4.56</td>\n",
       "    </tr>\n",
       "  </tbody>\n",
       "</table>\n",
       "</div>"
      ],
      "text/plain": [
       "                  Gender  Purchase Count  Average Purchase Price($)  \\\n",
       "0                   Male             652                       3.02   \n",
       "1                 Female             113                       3.20   \n",
       "2  Other / Non-Disclosed              15                       3.35   \n",
       "\n",
       "   Total Purchase Value($)  Avg Total Purchase per Person($)  \n",
       "0                  1967.64                              4.07  \n",
       "1                   361.94                              4.47  \n",
       "2                    50.19                              4.56  "
      ]
     },
     "execution_count": 9,
     "metadata": {},
     "output_type": "execute_result"
    }
   ],
   "source": [
    "merged_mf = pd.merge(only_males_all_df,only_females_all_df, how=\"outer\")\n",
    "merged_mfo = pd.merge(merged_mf,only_nds_all_df, how=\"outer\")\n",
    "merged_mfo.head()"
   ]
  },
  {
   "cell_type": "code",
   "execution_count": 10,
   "metadata": {
    "scrolled": true
   },
   "outputs": [
    {
     "data": {
      "text/html": [
       "<div>\n",
       "<style scoped>\n",
       "    .dataframe tbody tr th:only-of-type {\n",
       "        vertical-align: middle;\n",
       "    }\n",
       "\n",
       "    .dataframe tbody tr th {\n",
       "        vertical-align: top;\n",
       "    }\n",
       "\n",
       "    .dataframe thead th {\n",
       "        text-align: right;\n",
       "    }\n",
       "</style>\n",
       "<table border=\"1\" class=\"dataframe\">\n",
       "  <thead>\n",
       "    <tr style=\"text-align: right;\">\n",
       "      <th></th>\n",
       "      <th>Group Count</th>\n",
       "      <th>Group Percent(%)</th>\n",
       "    </tr>\n",
       "    <tr>\n",
       "      <th>Age Group</th>\n",
       "      <th></th>\n",
       "      <th></th>\n",
       "    </tr>\n",
       "  </thead>\n",
       "  <tbody>\n",
       "    <tr>\n",
       "      <th>&lt;10</th>\n",
       "      <td>17</td>\n",
       "      <td>2.95</td>\n",
       "    </tr>\n",
       "    <tr>\n",
       "      <th>10-14</th>\n",
       "      <td>22</td>\n",
       "      <td>3.82</td>\n",
       "    </tr>\n",
       "    <tr>\n",
       "      <th>15-19</th>\n",
       "      <td>107</td>\n",
       "      <td>18.58</td>\n",
       "    </tr>\n",
       "    <tr>\n",
       "      <th>20-24</th>\n",
       "      <td>258</td>\n",
       "      <td>44.79</td>\n",
       "    </tr>\n",
       "    <tr>\n",
       "      <th>25-29</th>\n",
       "      <td>77</td>\n",
       "      <td>13.37</td>\n",
       "    </tr>\n",
       "    <tr>\n",
       "      <th>30-34</th>\n",
       "      <td>52</td>\n",
       "      <td>9.03</td>\n",
       "    </tr>\n",
       "    <tr>\n",
       "      <th>35-39</th>\n",
       "      <td>31</td>\n",
       "      <td>5.38</td>\n",
       "    </tr>\n",
       "    <tr>\n",
       "      <th>40+</th>\n",
       "      <td>12</td>\n",
       "      <td>2.08</td>\n",
       "    </tr>\n",
       "  </tbody>\n",
       "</table>\n",
       "</div>"
      ],
      "text/plain": [
       "           Group Count  Group Percent(%)\n",
       "Age Group                               \n",
       "<10                 17              2.95\n",
       "10-14               22              3.82\n",
       "15-19              107             18.58\n",
       "20-24              258             44.79\n",
       "25-29               77             13.37\n",
       "30-34               52              9.03\n",
       "35-39               31              5.38\n",
       "40+                 12              2.08"
      ]
     },
     "execution_count": 10,
     "metadata": {},
     "output_type": "execute_result"
    }
   ],
   "source": [
    "#Age Demographic\n",
    "bins = [0,9,14,19,24,29,34,39,105]\n",
    "group_labels = [\"<10\",\"10-14\",\"15-19\",\"20-24\",\"25-29\",\"30-34\",\"35-39\",\"40+\"]\n",
    "players_df[\"Age Group\"] = pd.cut(players_df[\"Age\"], bins, labels=group_labels)\n",
    "group_ages_df = players_df.groupby([\"Age Group\"])\n",
    "group_count = group_ages_df[[\"Purchase ID\"]].count()\n",
    "group_count = group_count.rename(columns = {\"Purchase ID\":\"Group Count\"})\n",
    "group_percent = (group_count/total_players_count)*100\n",
    "group_count[\"Group Percent(%)\"] = group_percent.round(2)\n",
    "group_count.head(10)            "
   ]
  },
  {
   "cell_type": "code",
   "execution_count": null,
   "metadata": {},
   "outputs": [],
   "source": [
    "bins = [0,9,14,19,24,29,34,39,105]\n",
    "group_labels = [\"<10\",\"10-14\",\"15-19\",\"20-24\",\"25-29\",\"30-34\",\"35-39\",\"40+\"]\n",
    "purchase_data_df[\"Age Group\"] = pd.cut(purchase_data_df[\"Age\"], bins, labels=group_labels)\n",
    "group_purch_df = purchase_data_df.groupby([\"Age Group\"])\n",
    "\n",
    "group_purch_ct = group_purch_df[\"Purchase ID\"].count()\n",
    "group_purch_mean = group_purch_df[\"Price\"].mean().round(2)\n",
    "group_purch_tot = group_purch_df[\"Price\"].sum()\n",
    "group_purch_avg = (group_purch_tot/group_count[\"Group Count\"]).round(2)\n",
    "\n",
    "purch_by_age = {\"Purchase Count\":group_purch_ct,\"Average Purchase Price($)\":group_purch_mean,\n",
    "                \"Total Purchase Value($)\":group_purch_tot,\"Avg Total Purchase per Person($)\":group_purch_avg}\n",
    "purch_by_age_df = pd.DataFrame(purch_by_age)\n",
    "purch_by_age_df"
   ]
  },
  {
   "cell_type": "code",
   "execution_count": null,
   "metadata": {},
   "outputs": [],
   "source": [
    "#Top Spenders\n",
    "tspurchase_df = purchase_data_df.loc[:,[\"SN\",\"Price\"]]\n",
    "ts_count = tspurchase_df[\"SN\"].value_counts()\n",
    "ts_count_df = pd.DataFrame(ts_count)\n",
    "ts_count_df = ts_count_df.rename(columns ={\"SN\":\"Purchase Count\"})\n",
    "aggregate_dict = {\"SN\": \"first\", \"Price\":\"sum\"}\n",
    "grouped_ts = tspurchase_df.groupby(tspurchase_df[\"SN\"]).aggregate(aggregate_dict)\n",
    "merged_ts = pd.merge(grouped_ts,ts_count_df, right_index = True, left_index = True)\n",
    "merged_ts[\"Average Purchase Price($)\"] = (merged_ts[\"Price\"]/merged_ts[\"Purchase Count\"]).round(2)\n",
    "merged_ts.head(20)\n",
    "topspender_df = merged_ts.rename(columns={\"Price\":\"Total Purchase Price($)\"})\n",
    "topspender_sort = topspender_df.sort_values(\"Total Purchase Price($)\", ascending=False)\n",
    "topspender_sort.head()"
   ]
  },
  {
   "cell_type": "code",
   "execution_count": 11,
   "metadata": {},
   "outputs": [
    {
     "ename": "SyntaxError",
     "evalue": "invalid syntax (<ipython-input-11-eec95fca6b29>, line 9)",
     "output_type": "error",
     "traceback": [
      "\u001b[1;36m  File \u001b[1;32m\"<ipython-input-11-eec95fca6b29>\"\u001b[1;36m, line \u001b[1;32m9\u001b[0m\n\u001b[1;33m    print(grouped_mp)\u001b[0m\n\u001b[1;37m        ^\u001b[0m\n\u001b[1;31mSyntaxError\u001b[0m\u001b[1;31m:\u001b[0m invalid syntax\n"
     ]
    }
   ],
   "source": [
    "#Most Popular Items\n",
    "mpop_purchase_df = purchase_data_df.loc[:,[\"Item ID\",\"Item Name\",\"Price\"]]\n",
    "mp_count = mpop_purchase_df[\"Item ID\"].value_counts()\n",
    "mp_count_df = pd.DataFrame(mp_count)\n",
    "mp_count_df = mp_count_df.rename(columns ={\"Item ID\":\"Purchase Count\"})\n",
    "merged_mp = pd.merge(mpop_purchase_df,mp_count_df[\"Purchase Count\"], right_index = True, left_index = True)\n",
    "grouped_mp = merged_mp.groupby([\"Item ID\",\"Item Name\"])\n",
    "grouped_mp[\"Total Purchase Value($)\"] = Series.apply(grouped_mp[\"Price\"] * (grouped_mp[\"Purchase Count\"])\n",
    "print(grouped_mp)\n",
    "#mostpop_sort = grouped_mp.sort_values([\"Purchase Count\"], ascending=False)\n",
    "#mostpop_sort.head()"
   ]
  },
  {
   "cell_type": "code",
   "execution_count": null,
   "metadata": {},
   "outputs": [],
   "source": [
    "#Most Profitable items\n",
    "#most_prof_sort = grouped_mp.sort_values([\"Total Purchase Value($)\"], ascending=False)\n",
    "#most_prof_sort.head()"
   ]
  },
  {
   "cell_type": "code",
   "execution_count": null,
   "metadata": {},
   "outputs": [],
   "source": []
  }
 ],
 "metadata": {
  "kernelspec": {
   "display_name": "Python 3",
   "language": "python",
   "name": "python3"
  },
  "language_info": {
   "codemirror_mode": {
    "name": "ipython",
    "version": 3
   },
   "file_extension": ".py",
   "mimetype": "text/x-python",
   "name": "python",
   "nbconvert_exporter": "python",
   "pygments_lexer": "ipython3",
   "version": "3.7.3"
  }
 },
 "nbformat": 4,
 "nbformat_minor": 2
}
